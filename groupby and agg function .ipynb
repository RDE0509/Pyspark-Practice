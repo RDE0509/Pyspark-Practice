{
  "nbformat": 4,
  "nbformat_minor": 0,
  "metadata": {
    "colab": {
      "provenance": []
    },
    "kernelspec": {
      "name": "python3",
      "display_name": "Python 3"
    },
    "language_info": {
      "name": "python"
    }
  },
  "cells": [
    {
      "cell_type": "code",
      "execution_count": 1,
      "metadata": {
        "colab": {
          "base_uri": "https://localhost:8080/"
        },
        "id": "VymBFelrK5on",
        "outputId": "c4e066d9-3d82-40a1-a0a0-3594830c2e79"
      },
      "outputs": [
        {
          "output_type": "stream",
          "name": "stdout",
          "text": [
            "Looking in indexes: https://pypi.org/simple, https://us-python.pkg.dev/colab-wheels/public/simple/\n",
            "Collecting pyspark\n",
            "  Downloading pyspark-3.3.1.tar.gz (281.4 MB)\n",
            "\u001b[K     |████████████████████████████████| 281.4 MB 41 kB/s \n",
            "\u001b[?25hCollecting py4j==0.10.9.5\n",
            "  Downloading py4j-0.10.9.5-py2.py3-none-any.whl (199 kB)\n",
            "\u001b[K     |████████████████████████████████| 199 kB 62.7 MB/s \n",
            "\u001b[?25hBuilding wheels for collected packages: pyspark\n",
            "  Building wheel for pyspark (setup.py) ... \u001b[?25l\u001b[?25hdone\n",
            "  Created wheel for pyspark: filename=pyspark-3.3.1-py2.py3-none-any.whl size=281845512 sha256=00d08bcb06ab998ff93b88263e6263d76ba2acc9471e57e4512378aae93ca0e1\n",
            "  Stored in directory: /root/.cache/pip/wheels/43/dc/11/ec201cd671da62fa9c5cc77078235e40722170ceba231d7598\n",
            "Successfully built pyspark\n",
            "Installing collected packages: py4j, pyspark\n",
            "Successfully installed py4j-0.10.9.5 pyspark-3.3.1\n"
          ]
        }
      ],
      "source": [
        "pip install pyspark"
      ]
    },
    {
      "cell_type": "code",
      "source": [
        "from pyspark.sql import SparkSession\n",
        "from pyspark.sql import functions\n",
        "from pyspark.sql.functions import col,lit,split,bround"
      ],
      "metadata": {
        "id": "ki9VbyOvLUIo"
      },
      "execution_count": 62,
      "outputs": []
    },
    {
      "cell_type": "code",
      "source": [
        "spark= SparkSession.builder.appName(\"test\").getOrCreate()"
      ],
      "metadata": {
        "id": "XWhdenuCDAI5"
      },
      "execution_count": 4,
      "outputs": []
    },
    {
      "cell_type": "markdown",
      "source": [
        "# New Section"
      ],
      "metadata": {
        "id": "Oav-QF-AQHsS"
      }
    },
    {
      "cell_type": "code",
      "source": [
        "df2 = spark.read.option('header',True).csv('/content/County_Population.csv',inferSchema=True)"
      ],
      "metadata": {
        "id": "c63zU6caT10j"
      },
      "execution_count": 14,
      "outputs": []
    },
    {
      "cell_type": "code",
      "source": [
        "df2.printSchema()"
      ],
      "metadata": {
        "id": "9owqz1NGT1cN",
        "colab": {
          "base_uri": "https://localhost:8080/"
        },
        "outputId": "1a190931-b33a-4cb5-cb20-b9ded1f463ef"
      },
      "execution_count": 17,
      "outputs": [
        {
          "output_type": "stream",
          "name": "stdout",
          "text": [
            "root\n",
            " |-- Id: string (nullable = true)\n",
            " |-- Id2: integer (nullable = true)\n",
            " |-- County: string (nullable = true)\n",
            " |-- State: string (nullable = true)\n",
            " |-- Population Estimate 2018: integer (nullable = true)\n",
            "\n"
          ]
        }
      ]
    },
    {
      "cell_type": "code",
      "source": [
        "df2.count()"
      ],
      "metadata": {
        "colab": {
          "base_uri": "https://localhost:8080/"
        },
        "id": "rKD06jtCOdY4",
        "outputId": "be3a2097-98d9-4a8f-b990-a7336e52ce58"
      },
      "execution_count": 28,
      "outputs": [
        {
          "output_type": "execute_result",
          "data": {
            "text/plain": [
              "3220"
            ]
          },
          "metadata": {},
          "execution_count": 28
        }
      ]
    },
    {
      "cell_type": "code",
      "source": [
        "df2.dropDuplicates(['Id2'])"
      ],
      "metadata": {
        "colab": {
          "base_uri": "https://localhost:8080/"
        },
        "id": "JQrT2CyHOiie",
        "outputId": "ddd308f3-f692-4123-93ed-9d502ecfc95f"
      },
      "execution_count": 55,
      "outputs": [
        {
          "output_type": "execute_result",
          "data": {
            "text/plain": [
              "DataFrame[Id: string, Id2: int, County: string, State: string, Population Estimate 2018: int]"
            ]
          },
          "metadata": {},
          "execution_count": 55
        }
      ]
    },
    {
      "cell_type": "code",
      "source": [
        "df2.count()"
      ],
      "metadata": {
        "colab": {
          "base_uri": "https://localhost:8080/"
        },
        "id": "XC1CCTtkOm0b",
        "outputId": "0bbb88fc-09e6-4b08-ea6b-4fbb19330a9f"
      },
      "execution_count": 56,
      "outputs": [
        {
          "output_type": "execute_result",
          "data": {
            "text/plain": [
              "3220"
            ]
          },
          "metadata": {},
          "execution_count": 56
        }
      ]
    },
    {
      "cell_type": "code",
      "source": [
        "df2.drop('na','null')"
      ],
      "metadata": {
        "colab": {
          "base_uri": "https://localhost:8080/"
        },
        "id": "uJFPtsnNOozj",
        "outputId": "d24570a9-4c52-4f60-cfbb-de4a6d6bce24"
      },
      "execution_count": 57,
      "outputs": [
        {
          "output_type": "execute_result",
          "data": {
            "text/plain": [
              "DataFrame[Id: string, Id2: int, County: string, State: string, Population Estimate 2018: int]"
            ]
          },
          "metadata": {},
          "execution_count": 57
        }
      ]
    },
    {
      "cell_type": "code",
      "source": [
        "df2.count()"
      ],
      "metadata": {
        "colab": {
          "base_uri": "https://localhost:8080/"
        },
        "id": "GMVb2uOSOtFw",
        "outputId": "ba5788b7-bcfb-4f43-eb15-cbce9c3e3e38"
      },
      "execution_count": 58,
      "outputs": [
        {
          "output_type": "execute_result",
          "data": {
            "text/plain": [
              "3220"
            ]
          },
          "metadata": {},
          "execution_count": 58
        }
      ]
    },
    {
      "cell_type": "code",
      "source": [
        "df2.show(5)"
      ],
      "metadata": {
        "colab": {
          "base_uri": "https://localhost:8080/"
        },
        "id": "p92idlxCNP9f",
        "outputId": "699989bc-f886-4033-d927-22f789590c22"
      },
      "execution_count": 33,
      "outputs": [
        {
          "output_type": "stream",
          "name": "stdout",
          "text": [
            "+--------------+----+-------+-------+------------------------+\n",
            "|            Id| Id2| County|  State|Population Estimate 2018|\n",
            "+--------------+----+-------+-------+------------------------+\n",
            "|0500000US01001|1001|Autauga|Alabama|                   55601|\n",
            "|0500000US01003|1003|Baldwin|Alabama|                  218022|\n",
            "|0500000US01005|1005|Barbour|Alabama|                   24881|\n",
            "|0500000US01007|1007|   Bibb|Alabama|                   22400|\n",
            "|0500000US01009|1009| Blount|Alabama|                   57840|\n",
            "+--------------+----+-------+-------+------------------------+\n",
            "only showing top 5 rows\n",
            "\n"
          ]
        }
      ]
    },
    {
      "cell_type": "code",
      "source": [
        "df2.groupby('State').count().show(5)"
      ],
      "metadata": {
        "colab": {
          "base_uri": "https://localhost:8080/"
        },
        "id": "oOK2HbKSNT7V",
        "outputId": "a816b8d8-bb3d-4927-c303-fb8c60886905"
      },
      "execution_count": 35,
      "outputs": [
        {
          "output_type": "stream",
          "name": "stdout",
          "text": [
            "+---------+-----+\n",
            "|    State|count|\n",
            "+---------+-----+\n",
            "|     Utah|   29|\n",
            "|   Hawaii|    5|\n",
            "|Minnesota|   87|\n",
            "|     Ohio|   88|\n",
            "| Arkansas|   75|\n",
            "+---------+-----+\n",
            "only showing top 5 rows\n",
            "\n"
          ]
        }
      ]
    },
    {
      "cell_type": "code",
      "source": [
        "df2.groupby('State').max().show(5)"
      ],
      "metadata": {
        "colab": {
          "base_uri": "https://localhost:8080/"
        },
        "id": "zygx9fnwO8Cd",
        "outputId": "875291dc-449a-4f74-8fa4-9c768fa3613d"
      },
      "execution_count": 36,
      "outputs": [
        {
          "output_type": "stream",
          "name": "stdout",
          "text": [
            "+---------+--------+-----------------------------+\n",
            "|    State|max(Id2)|max(Population Estimate 2018)|\n",
            "+---------+--------+-----------------------------+\n",
            "|     Utah|   49057|                      1152633|\n",
            "|   Hawaii|   15009|                       980080|\n",
            "|Minnesota|   27173|                      1259428|\n",
            "|     Ohio|   39175|                      1310300|\n",
            "| Arkansas|    5149|                       392680|\n",
            "+---------+--------+-----------------------------+\n",
            "only showing top 5 rows\n",
            "\n"
          ]
        }
      ]
    },
    {
      "cell_type": "code",
      "source": [
        "df2.groupby('county').min().show(5)"
      ],
      "metadata": {
        "colab": {
          "base_uri": "https://localhost:8080/"
        },
        "id": "8KSpIhhqPSNJ",
        "outputId": "37e1831a-8c9e-4750-ddb5-0ab92e9d27a1"
      },
      "execution_count": 37,
      "outputs": [
        {
          "output_type": "stream",
          "name": "stdout",
          "text": [
            "+---------+--------+-----------------------------+\n",
            "|   county|min(Id2)|min(Population Estimate 2018)|\n",
            "+---------+--------+-----------------------------+\n",
            "|Worcester|   24047|                        51823|\n",
            "|   Aitkin|   27001|                        15902|\n",
            "|Petroleum|   30069|                          513|\n",
            "| Thurston|   31173|                         7303|\n",
            "|    Bucks|   42017|                       628195|\n",
            "+---------+--------+-----------------------------+\n",
            "only showing top 5 rows\n",
            "\n"
          ]
        }
      ]
    },
    {
      "cell_type": "code",
      "source": [
        "df2.groupby('State').avg().show(5)"
      ],
      "metadata": {
        "colab": {
          "base_uri": "https://localhost:8080/"
        },
        "id": "x1DXrD0LPbPg",
        "outputId": "85267306-0634-4459-f0a5-e77209e4e2c7"
      },
      "execution_count": 38,
      "outputs": [
        {
          "output_type": "stream",
          "name": "stdout",
          "text": [
            "+---------+--------+-----------------------------+\n",
            "|    State|avg(Id2)|avg(Population Estimate 2018)|\n",
            "+---------+--------+-----------------------------+\n",
            "|     Utah| 49029.0|           109003.62068965517|\n",
            "|   Hawaii| 15005.0|                     284098.2|\n",
            "|Minnesota| 27087.0|            64496.31034482759|\n",
            "|     Ohio| 39088.0|           132834.56818181818|\n",
            "| Arkansas|  5075.0|           40184.333333333336|\n",
            "+---------+--------+-----------------------------+\n",
            "only showing top 5 rows\n",
            "\n"
          ]
        }
      ]
    },
    {
      "cell_type": "code",
      "source": [
        "df2.groupby('State').sum().show(4)"
      ],
      "metadata": {
        "colab": {
          "base_uri": "https://localhost:8080/"
        },
        "id": "Wxja2TysPmi1",
        "outputId": "79040719-5f21-4997-ed32-288544fa5d81"
      },
      "execution_count": 41,
      "outputs": [
        {
          "output_type": "stream",
          "name": "stdout",
          "text": [
            "+---------+--------+-----------------------------+\n",
            "|    State|sum(Id2)|sum(Population Estimate 2018)|\n",
            "+---------+--------+-----------------------------+\n",
            "|     Utah| 1421841|                      3161105|\n",
            "|   Hawaii|   75025|                      1420491|\n",
            "|Minnesota| 2356569|                      5611179|\n",
            "|     Ohio| 3439744|                     11689442|\n",
            "+---------+--------+-----------------------------+\n",
            "only showing top 4 rows\n",
            "\n"
          ]
        }
      ]
    },
    {
      "cell_type": "code",
      "source": [
        "df3 = df2.select('Id2','State','County','Population Estimate 2018')"
      ],
      "metadata": {
        "id": "foAOoeWoP8UY"
      },
      "execution_count": 43,
      "outputs": []
    },
    {
      "cell_type": "code",
      "source": [
        "df3.show(10)"
      ],
      "metadata": {
        "colab": {
          "base_uri": "https://localhost:8080/"
        },
        "id": "u73i26pZQZ9m",
        "outputId": "5c40d521-d830-4b0d-efae-dee0fda231a6"
      },
      "execution_count": 44,
      "outputs": [
        {
          "output_type": "stream",
          "name": "stdout",
          "text": [
            "+----+-------+--------+------------------------+\n",
            "| Id2|  State|  County|Population Estimate 2018|\n",
            "+----+-------+--------+------------------------+\n",
            "|1001|Alabama| Autauga|                   55601|\n",
            "|1003|Alabama| Baldwin|                  218022|\n",
            "|1005|Alabama| Barbour|                   24881|\n",
            "|1007|Alabama|    Bibb|                   22400|\n",
            "|1009|Alabama|  Blount|                   57840|\n",
            "|1011|Alabama| Bullock|                   10138|\n",
            "|1013|Alabama|  Butler|                   19680|\n",
            "|1015|Alabama| Calhoun|                  114277|\n",
            "|1017|Alabama|Chambers|                   33615|\n",
            "|1019|Alabama|Cherokee|                   26032|\n",
            "+----+-------+--------+------------------------+\n",
            "only showing top 10 rows\n",
            "\n"
          ]
        }
      ]
    },
    {
      "cell_type": "code",
      "source": [
        "df3.count()"
      ],
      "metadata": {
        "colab": {
          "base_uri": "https://localhost:8080/"
        },
        "id": "Xky4knpGQhjS",
        "outputId": "51397c67-83b1-40b9-ae7b-451339a58c18"
      },
      "execution_count": 53,
      "outputs": [
        {
          "output_type": "execute_result",
          "data": {
            "text/plain": [
              "3220"
            ]
          },
          "metadata": {},
          "execution_count": 53
        }
      ]
    },
    {
      "cell_type": "code",
      "source": [
        "df3.groupby('State','County').min('Population Estimate 2018').show()"
      ],
      "metadata": {
        "colab": {
          "base_uri": "https://localhost:8080/"
        },
        "id": "Y0HJCVGJSyFb",
        "outputId": "1b1a0b96-5db4-4adf-fe95-3944488d6535"
      },
      "execution_count": 69,
      "outputs": [
        {
          "output_type": "stream",
          "name": "stdout",
          "text": [
            "+--------------+--------------------+-----------------------------+\n",
            "|         State|              County|min(Population Estimate 2018)|\n",
            "+--------------+--------------------+-----------------------------+\n",
            "|       Alabama|             Choctaw|                        12841|\n",
            "|    California|              Orange|                      3185968|\n",
            "|       Florida|              Monroe|                        75027|\n",
            "|       Georgia|             Laurens|                        47325|\n",
            "| New Hampshire|            Sullivan|                        43144|\n",
            "|    New Jersey|            Atlantic|                       265429|\n",
            "|North Carolina|            Davidson|                       166614|\n",
            "|          Ohio|              Geauga|                        94031|\n",
            "|        Oregon|           Clackamas|                       416075|\n",
            "|South Carolina|             Laurens|                        66994|\n",
            "|     Tennessee|           Claiborne|                        31756|\n",
            "|         Texas|              Newton|                        13746|\n",
            "|         Texas|       San Augustine|                         8232|\n",
            "|    Washington|               Ferry|                         7649|\n",
            "|     Wisconsin|                Polk|                        43598|\n",
            "|   Puerto Rico|   Corozal Municipio|                        32320|\n",
            "|   Puerto Rico|   Humacao Municipio|                        50532|\n",
            "|       Alabama|           Jefferson|                       659300|\n",
            "|        Alaska|Juneau City and B...|                        32113|\n",
            "|        Alaska|    Nome Census Area|                        10008|\n",
            "+--------------+--------------------+-----------------------------+\n",
            "only showing top 20 rows\n",
            "\n"
          ]
        }
      ]
    },
    {
      "cell_type": "code",
      "source": [
        "df3.agg({'Population Estimate 2018':'sum'}).show()"
      ],
      "metadata": {
        "colab": {
          "base_uri": "https://localhost:8080/"
        },
        "id": "YBD572BDVfD3",
        "outputId": "4e368b0d-37aa-4924-a2b7-64eda8711e81"
      },
      "execution_count": 74,
      "outputs": [
        {
          "output_type": "stream",
          "name": "stdout",
          "text": [
            "+-----------------------------+\n",
            "|sum(Population Estimate 2018)|\n",
            "+-----------------------------+\n",
            "|                    330362587|\n",
            "+-----------------------------+\n",
            "\n"
          ]
        }
      ]
    },
    {
      "cell_type": "code",
      "source": [
        "df3.agg({'Population Estimate 2018':'min'}).show()"
      ],
      "metadata": {
        "colab": {
          "base_uri": "https://localhost:8080/"
        },
        "id": "kDMXbPz7WDul",
        "outputId": "f0f90ac4-9f2c-4e7f-f952-8dd3aad80c50"
      },
      "execution_count": 76,
      "outputs": [
        {
          "output_type": "stream",
          "name": "stdout",
          "text": [
            "+-----------------------------+\n",
            "|min(Population Estimate 2018)|\n",
            "+-----------------------------+\n",
            "|                           88|\n",
            "+-----------------------------+\n",
            "\n"
          ]
        }
      ]
    },
    {
      "cell_type": "code",
      "source": [
        "df3.agg({'Population Estimate 2018':'max'}).show()"
      ],
      "metadata": {
        "colab": {
          "base_uri": "https://localhost:8080/"
        },
        "id": "cFlHIIoXWOtl",
        "outputId": "77efbd88-0549-4205-9d60-ff0879c6d889"
      },
      "execution_count": 77,
      "outputs": [
        {
          "output_type": "stream",
          "name": "stdout",
          "text": [
            "+-----------------------------+\n",
            "|max(Population Estimate 2018)|\n",
            "+-----------------------------+\n",
            "|                     10105518|\n",
            "+-----------------------------+\n",
            "\n"
          ]
        }
      ]
    },
    {
      "cell_type": "code",
      "source": [
        "df3.agg({'Population Estimate 2018':\"avg\"}).show()"
      ],
      "metadata": {
        "colab": {
          "base_uri": "https://localhost:8080/"
        },
        "id": "L-lP211bWVo2",
        "outputId": "b0f0c300-7287-4173-eae3-c67fcc966c79"
      },
      "execution_count": 78,
      "outputs": [
        {
          "output_type": "stream",
          "name": "stdout",
          "text": [
            "+-----------------------------+\n",
            "|avg(Population Estimate 2018)|\n",
            "+-----------------------------+\n",
            "|           102597.07670807453|\n",
            "+-----------------------------+\n",
            "\n"
          ]
        }
      ]
    },
    {
      "cell_type": "code",
      "source": [],
      "metadata": {
        "id": "9yelBU3fViX8"
      },
      "execution_count": null,
      "outputs": []
    }
  ]
}
