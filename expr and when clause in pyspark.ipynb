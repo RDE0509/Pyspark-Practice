{
  "nbformat": 4,
  "nbformat_minor": 0,
  "metadata": {
    "colab": {
      "provenance": [],
      "authorship_tag": "ABX9TyPfWtGvNzEoMUSO44yUAgDe",
      "include_colab_link": true
    },
    "kernelspec": {
      "name": "python3",
      "display_name": "Python 3"
    },
    "language_info": {
      "name": "python"
    }
  },
  "cells": [
    {
      "cell_type": "markdown",
      "metadata": {
        "id": "view-in-github",
        "colab_type": "text"
      },
      "source": [
        "<a href=\"https://colab.research.google.com/github/RDE0509/Pyspark-Practice/blob/main/expr%20and%20when%20clause%20in%20pyspark.ipynb\" target=\"_parent\"><img src=\"https://colab.research.google.com/assets/colab-badge.svg\" alt=\"Open In Colab\"/></a>"
      ]
    },
    {
      "cell_type": "code",
      "execution_count": 64,
      "metadata": {
        "colab": {
          "base_uri": "https://localhost:8080/"
        },
        "id": "pD29K8B5qb5h",
        "outputId": "8133c0ee-3905-4c6a-a973-17051f7f8889"
      },
      "outputs": [
        {
          "output_type": "stream",
          "name": "stdout",
          "text": [
            "Looking in indexes: https://pypi.org/simple, https://us-python.pkg.dev/colab-wheels/public/simple/\n",
            "Requirement already satisfied: pyspark in /usr/local/lib/python3.8/dist-packages (3.3.1)\n",
            "Requirement already satisfied: py4j==0.10.9.5 in /usr/local/lib/python3.8/dist-packages (from pyspark) (0.10.9.5)\n"
          ]
        }
      ],
      "source": [
        "! pip install pyspark\n",
        "\n"
      ]
    },
    {
      "cell_type": "code",
      "source": [
        "! pip install matplotlib"
      ],
      "metadata": {
        "colab": {
          "base_uri": "https://localhost:8080/"
        },
        "id": "NVK7CI3YOsOq",
        "outputId": "810c2d43-d8b7-40b9-a458-02abd6669781"
      },
      "execution_count": 65,
      "outputs": [
        {
          "output_type": "stream",
          "name": "stdout",
          "text": [
            "Looking in indexes: https://pypi.org/simple, https://us-python.pkg.dev/colab-wheels/public/simple/\n",
            "Requirement already satisfied: matplotlib in /usr/local/lib/python3.8/dist-packages (3.2.2)\n",
            "Requirement already satisfied: kiwisolver>=1.0.1 in /usr/local/lib/python3.8/dist-packages (from matplotlib) (1.4.4)\n",
            "Requirement already satisfied: numpy>=1.11 in /usr/local/lib/python3.8/dist-packages (from matplotlib) (1.21.6)\n",
            "Requirement already satisfied: python-dateutil>=2.1 in /usr/local/lib/python3.8/dist-packages (from matplotlib) (2.8.2)\n",
            "Requirement already satisfied: cycler>=0.10 in /usr/local/lib/python3.8/dist-packages (from matplotlib) (0.11.0)\n",
            "Requirement already satisfied: pyparsing!=2.0.4,!=2.1.2,!=2.1.6,>=2.0.1 in /usr/local/lib/python3.8/dist-packages (from matplotlib) (3.0.9)\n",
            "Requirement already satisfied: six>=1.5 in /usr/local/lib/python3.8/dist-packages (from python-dateutil>=2.1->matplotlib) (1.15.0)\n"
          ]
        }
      ]
    },
    {
      "cell_type": "code",
      "source": [
        "from pyspark.sql import SparkSession\n",
        "from pyspark.sql.functions import *\n",
        "import pyspark\n",
        "from pyspark.sql import Row\n",
        "from pyspark.sql import HiveContext\n",
        "from pyspark.sql.types import *"
      ],
      "metadata": {
        "id": "8GkDYumOrLrx"
      },
      "execution_count": 129,
      "outputs": []
    },
    {
      "cell_type": "code",
      "source": [
        "sc = pyspark.SparkContext()\n",
        "sqlContext = HiveContext(sc)"
      ],
      "metadata": {
        "colab": {
          "base_uri": "https://localhost:8080/",
          "height": 224
        },
        "id": "-2p2pP6uWBXX",
        "outputId": "9f7cab3e-ccd3-45b6-f03f-0cba742e5ab7"
      },
      "execution_count": 125,
      "outputs": [
        {
          "output_type": "error",
          "ename": "ValueError",
          "evalue": "ignored",
          "traceback": [
            "\u001b[0;31m---------------------------------------------------------------------------\u001b[0m",
            "\u001b[0;31mValueError\u001b[0m                                Traceback (most recent call last)",
            "\u001b[0;32m<ipython-input-125-36b5b0e8a3b2>\u001b[0m in \u001b[0;36m<module>\u001b[0;34m\u001b[0m\n\u001b[0;32m----> 1\u001b[0;31m \u001b[0msc\u001b[0m \u001b[0;34m=\u001b[0m \u001b[0mpyspark\u001b[0m\u001b[0;34m.\u001b[0m\u001b[0mSparkContext\u001b[0m\u001b[0;34m(\u001b[0m\u001b[0;34m)\u001b[0m\u001b[0;34m\u001b[0m\u001b[0;34m\u001b[0m\u001b[0m\n\u001b[0m\u001b[1;32m      2\u001b[0m \u001b[0msqlContext\u001b[0m \u001b[0;34m=\u001b[0m \u001b[0mHiveContext\u001b[0m\u001b[0;34m(\u001b[0m\u001b[0msc\u001b[0m\u001b[0;34m)\u001b[0m\u001b[0;34m\u001b[0m\u001b[0;34m\u001b[0m\u001b[0m\n",
            "\u001b[0;32m/usr/local/lib/python3.8/dist-packages/pyspark/context.py\u001b[0m in \u001b[0;36m__init__\u001b[0;34m(self, master, appName, sparkHome, pyFiles, environment, batchSize, serializer, conf, gateway, jsc, profiler_cls, udf_profiler_cls)\u001b[0m\n\u001b[1;32m    193\u001b[0m             )\n\u001b[1;32m    194\u001b[0m \u001b[0;34m\u001b[0m\u001b[0m\n\u001b[0;32m--> 195\u001b[0;31m         \u001b[0mSparkContext\u001b[0m\u001b[0;34m.\u001b[0m\u001b[0m_ensure_initialized\u001b[0m\u001b[0;34m(\u001b[0m\u001b[0mself\u001b[0m\u001b[0;34m,\u001b[0m \u001b[0mgateway\u001b[0m\u001b[0;34m=\u001b[0m\u001b[0mgateway\u001b[0m\u001b[0;34m,\u001b[0m \u001b[0mconf\u001b[0m\u001b[0;34m=\u001b[0m\u001b[0mconf\u001b[0m\u001b[0;34m)\u001b[0m\u001b[0;34m\u001b[0m\u001b[0;34m\u001b[0m\u001b[0m\n\u001b[0m\u001b[1;32m    196\u001b[0m         \u001b[0;32mtry\u001b[0m\u001b[0;34m:\u001b[0m\u001b[0;34m\u001b[0m\u001b[0;34m\u001b[0m\u001b[0m\n\u001b[1;32m    197\u001b[0m             self._do_init(\n",
            "\u001b[0;32m/usr/local/lib/python3.8/dist-packages/pyspark/context.py\u001b[0m in \u001b[0;36m_ensure_initialized\u001b[0;34m(cls, instance, gateway, conf)\u001b[0m\n\u001b[1;32m    428\u001b[0m \u001b[0;34m\u001b[0m\u001b[0m\n\u001b[1;32m    429\u001b[0m                     \u001b[0;31m# Raise error if there is already a running Spark context\u001b[0m\u001b[0;34m\u001b[0m\u001b[0;34m\u001b[0m\u001b[0;34m\u001b[0m\u001b[0m\n\u001b[0;32m--> 430\u001b[0;31m                     raise ValueError(\n\u001b[0m\u001b[1;32m    431\u001b[0m                         \u001b[0;34m\"Cannot run multiple SparkContexts at once; \"\u001b[0m\u001b[0;34m\u001b[0m\u001b[0;34m\u001b[0m\u001b[0m\n\u001b[1;32m    432\u001b[0m                         \u001b[0;34m\"existing SparkContext(app=%s, master=%s)\"\u001b[0m\u001b[0;34m\u001b[0m\u001b[0;34m\u001b[0m\u001b[0m\n",
            "\u001b[0;31mValueError\u001b[0m: Cannot run multiple SparkContexts at once; existing SparkContext(app=Test, master=local[*]) created by getOrCreate at <ipython-input-4-52ee5827c70d>:1 "
          ]
        }
      ]
    },
    {
      "cell_type": "code",
      "source": [
        "spark = SparkSession.builder.appName('Test').getOrCreate()"
      ],
      "metadata": {
        "id": "-kdgCgA4sGrC"
      },
      "execution_count": null,
      "outputs": []
    },
    {
      "cell_type": "code",
      "source": [
        "df = spark.read.option('header',True).csv('/content/StatewiseTestingDetails.csv')"
      ],
      "metadata": {
        "id": "zQPDnMLTsNoo"
      },
      "execution_count": 93,
      "outputs": []
    },
    {
      "cell_type": "code",
      "source": [
        "df.show()"
      ],
      "metadata": {
        "colab": {
          "base_uri": "https://localhost:8080/"
        },
        "id": "c4qb7x2wVAJN",
        "outputId": "5383a12b-8259-4f9a-bcdb-72491421435a"
      },
      "execution_count": 113,
      "outputs": [
        {
          "output_type": "stream",
          "name": "stdout",
          "text": [
            "+----------+--------------------+------------+--------+--------+\n",
            "|      Date|               State|TotalSamples|Negative|Positive|\n",
            "+----------+--------------------+------------+--------+--------+\n",
            "|2020-04-17|Andaman and Nicob...|      1403.0|    1210|    12.0|\n",
            "|2020-04-24|Andaman and Nicob...|      2679.0|    null|    27.0|\n",
            "|2020-04-27|Andaman and Nicob...|      2848.0|    null|    33.0|\n",
            "|2020-05-01|Andaman and Nicob...|      3754.0|    null|    33.0|\n",
            "|2020-05-16|Andaman and Nicob...|      6677.0|    null|    33.0|\n",
            "|2020-05-19|Andaman and Nicob...|      6965.0|    null|    33.0|\n",
            "|2020-05-20|Andaman and Nicob...|      7082.0|    null|    33.0|\n",
            "|2020-05-21|Andaman and Nicob...|      7167.0|    null|    33.0|\n",
            "|2020-05-22|Andaman and Nicob...|      7263.0|    null|    33.0|\n",
            "|2020-05-23|Andaman and Nicob...|      7327.0|    null|    33.0|\n",
            "|2020-05-24|Andaman and Nicob...|      7327.0|    null|    33.0|\n",
            "|2020-05-25|Andaman and Nicob...|      7363.0|    null|    33.0|\n",
            "|2020-05-26|Andaman and Nicob...|      7448.0|    null|    33.0|\n",
            "|2020-05-27|Andaman and Nicob...|      7499.0|    null|    33.0|\n",
            "|2020-05-28|Andaman and Nicob...|      7519.0|    null|    33.0|\n",
            "|2020-05-29|Andaman and Nicob...|      7567.0|    null|    33.0|\n",
            "|2020-05-30|Andaman and Nicob...|      7567.0|    null|    33.0|\n",
            "|2020-05-31|Andaman and Nicob...|      7706.0|    null|    33.0|\n",
            "|2020-06-01|Andaman and Nicob...|      7805.0|    null|    33.0|\n",
            "|2020-06-02|Andaman and Nicob...|      8086.0|    null|    33.0|\n",
            "+----------+--------------------+------------+--------+--------+\n",
            "only showing top 20 rows\n",
            "\n"
          ]
        }
      ]
    },
    {
      "cell_type": "code",
      "source": [
        "df1 = df.select(col(\"*\")).groupBy('State').count()"
      ],
      "metadata": {
        "id": "wQK9h9OeuZ1m"
      },
      "execution_count": 117,
      "outputs": []
    },
    {
      "cell_type": "code",
      "source": [
        "df1.show()"
      ],
      "metadata": {
        "colab": {
          "base_uri": "https://localhost:8080/"
        },
        "id": "riHnhGrEULGF",
        "outputId": "5800c05d-a84c-4474-aad6-ba326b0c418d"
      },
      "execution_count": 118,
      "outputs": [
        {
          "output_type": "stream",
          "name": "stdout",
          "text": [
            "+--------------------+-----+\n",
            "|               State|count|\n",
            "+--------------------+-----+\n",
            "|            Nagaland|  484|\n",
            "|           Karnataka|  491|\n",
            "|              Odisha|  492|\n",
            "|              Kerala|  497|\n",
            "|Dadra and Nagar H...|  170|\n",
            "|              Ladakh|  294|\n",
            "|          Tamil Nadu|  491|\n",
            "|        Chhattisgarh|  482|\n",
            "|      Andhra Pradesh|  488|\n",
            "|         Lakshadweep|  195|\n",
            "|      Madhya Pradesh|  492|\n",
            "|              Punjab|  491|\n",
            "|             Manipur|  406|\n",
            "|                 Goa|  483|\n",
            "|             Mizoram|  465|\n",
            "|    Himachal Pradesh|  488|\n",
            "|          Puducherry|  478|\n",
            "|             Haryana|  492|\n",
            "|   Jammu and Kashmir|  489|\n",
            "|           Jharkhand|  484|\n",
            "+--------------------+-----+\n",
            "only showing top 20 rows\n",
            "\n"
          ]
        }
      ]
    },
    {
      "cell_type": "code",
      "source": [
        "df1.where(col('State') == 'Delhi').show()"
      ],
      "metadata": {
        "colab": {
          "base_uri": "https://localhost:8080/"
        },
        "id": "eQBFR6LB1S8L",
        "outputId": "24e22a7c-d160-4920-844d-5dd61f051187"
      },
      "execution_count": 103,
      "outputs": [
        {
          "output_type": "stream",
          "name": "stdout",
          "text": [
            "+-----+-----+\n",
            "|State|count|\n",
            "+-----+-----+\n",
            "|Delhi|  489|\n",
            "+-----+-----+\n",
            "\n"
          ]
        }
      ]
    },
    {
      "cell_type": "code",
      "source": [
        "df1.filter(col('State') == 'Delhi').show()"
      ],
      "metadata": {
        "colab": {
          "base_uri": "https://localhost:8080/"
        },
        "id": "dlgBVg0ST_gV",
        "outputId": "2772d8ca-5c3e-44cb-dcd1-f4c5db8aa3f8"
      },
      "execution_count": 105,
      "outputs": [
        {
          "output_type": "stream",
          "name": "stdout",
          "text": [
            "+-----+-----+\n",
            "|State|count|\n",
            "+-----+-----+\n",
            "|Delhi|  489|\n",
            "+-----+-----+\n",
            "\n"
          ]
        }
      ]
    },
    {
      "cell_type": "code",
      "source": [
        "df.count()"
      ],
      "metadata": {
        "colab": {
          "base_uri": "https://localhost:8080/"
        },
        "id": "rlczz3ys1xWj",
        "outputId": "e4d6dddd-7611-4ae7-d488-4523149739ca"
      },
      "execution_count": 108,
      "outputs": [
        {
          "output_type": "execute_result",
          "data": {
            "text/plain": [
              "16336"
            ]
          },
          "metadata": {},
          "execution_count": 108
        }
      ]
    },
    {
      "cell_type": "code",
      "source": [
        "df.dropDuplicates()"
      ],
      "metadata": {
        "colab": {
          "base_uri": "https://localhost:8080/"
        },
        "id": "C_0X2pp4USGM",
        "outputId": "53f306ec-5f9f-49f9-e7c0-e8b345cc292f"
      },
      "execution_count": 107,
      "outputs": [
        {
          "output_type": "execute_result",
          "data": {
            "text/plain": [
              "DataFrame[Date: string, State: string, TotalSamples: string, Negative: string, Positive: string]"
            ]
          },
          "metadata": {},
          "execution_count": 107
        }
      ]
    },
    {
      "cell_type": "code",
      "source": [
        "df.count()"
      ],
      "metadata": {
        "colab": {
          "base_uri": "https://localhost:8080/"
        },
        "id": "iCkO-08rUW6k",
        "outputId": "996a752c-0840-4ff7-a064-0a7e974ea80a"
      },
      "execution_count": 109,
      "outputs": [
        {
          "output_type": "execute_result",
          "data": {
            "text/plain": [
              "16336"
            ]
          },
          "metadata": {},
          "execution_count": 109
        }
      ]
    },
    {
      "cell_type": "code",
      "source": [
        "df.na.drop()"
      ],
      "metadata": {
        "colab": {
          "base_uri": "https://localhost:8080/"
        },
        "id": "iT3znPsRUZ2s",
        "outputId": "23122e2f-9065-4c2b-f9a3-cb532a72e0a2"
      },
      "execution_count": 111,
      "outputs": [
        {
          "output_type": "execute_result",
          "data": {
            "text/plain": [
              "DataFrame[Date: string, State: string, TotalSamples: string, Negative: string, Positive: string]"
            ]
          },
          "metadata": {},
          "execution_count": 111
        }
      ]
    },
    {
      "cell_type": "code",
      "source": [
        "df.count()"
      ],
      "metadata": {
        "colab": {
          "base_uri": "https://localhost:8080/"
        },
        "id": "ZJGyvs8NUg4p",
        "outputId": "872cb96b-ea1f-4513-a8f5-d031b6d3cc0b"
      },
      "execution_count": 112,
      "outputs": [
        {
          "output_type": "execute_result",
          "data": {
            "text/plain": [
              "16336"
            ]
          },
          "metadata": {},
          "execution_count": 112
        }
      ]
    },
    {
      "cell_type": "code",
      "source": [
        "df1 = df.na.drop('any')"
      ],
      "metadata": {
        "id": "xlEfziFdoor6"
      },
      "execution_count": 146,
      "outputs": []
    },
    {
      "cell_type": "code",
      "source": [
        "df1.count()"
      ],
      "metadata": {
        "colab": {
          "base_uri": "https://localhost:8080/"
        },
        "id": "2nkQImlXpBtG",
        "outputId": "4feab4ef-e1b1-4825-8387-bdc55da679b8"
      },
      "execution_count": 147,
      "outputs": [
        {
          "output_type": "execute_result",
          "data": {
            "text/plain": [
              "3558"
            ]
          },
          "metadata": {},
          "execution_count": 147
        }
      ]
    },
    {
      "cell_type": "code",
      "source": [
        "df.printSchema()"
      ],
      "metadata": {
        "colab": {
          "base_uri": "https://localhost:8080/"
        },
        "id": "S8NeouZqaVP-",
        "outputId": "ff5d192d-762f-44b3-f787-cbba984de23d"
      },
      "execution_count": 136,
      "outputs": [
        {
          "output_type": "stream",
          "name": "stdout",
          "text": [
            "root\n",
            " |-- Date: string (nullable = true)\n",
            " |-- State: string (nullable = true)\n",
            " |-- TotalSamples: string (nullable = true)\n",
            " |-- Negative: string (nullable = true)\n",
            " |-- Positive: string (nullable = true)\n",
            "\n"
          ]
        }
      ]
    },
    {
      "cell_type": "code",
      "source": [
        "df1.show()"
      ],
      "metadata": {
        "colab": {
          "base_uri": "https://localhost:8080/"
        },
        "id": "5Hfv9LU9pMV2",
        "outputId": "1a95aae7-7dcc-41f1-9a19-b534a8e065cc"
      },
      "execution_count": 149,
      "outputs": [
        {
          "output_type": "stream",
          "name": "stdout",
          "text": [
            "+----------+--------------------+------------+--------+--------+\n",
            "|      Date|               State|TotalSamples|Negative|Positive|\n",
            "+----------+--------------------+------------+--------+--------+\n",
            "|2020-04-17|Andaman and Nicob...|      1403.0|    1210|    12.0|\n",
            "|2020-04-02|      Andhra Pradesh|      1800.0|    1175|   132.0|\n",
            "|2020-04-10|      Andhra Pradesh|      6374.0|    6009|   365.0|\n",
            "|2020-04-11|      Andhra Pradesh|      6958.0|    6577|   381.0|\n",
            "|2020-04-12|      Andhra Pradesh|      6958.0|    6553|   405.0|\n",
            "|2020-04-13|      Andhra Pradesh|      8755.0|    8323|   432.0|\n",
            "|2020-04-14|      Andhra Pradesh|     10505.0|   10032|   473.0|\n",
            "|2020-04-15|      Andhra Pradesh|     11613.0|   11088|   525.0|\n",
            "|2020-04-16|      Andhra Pradesh|     20235.0|   19701|   534.0|\n",
            "|2020-04-18|      Andhra Pradesh|     21450.0|   20487|   603.0|\n",
            "|2020-04-19|      Andhra Pradesh|     26958.0|   26311|   647.0|\n",
            "|2020-04-20|      Andhra Pradesh|     30733.0|   30011|   722.0|\n",
            "|2020-04-21|      Andhra Pradesh|     35755.0|   34998|   757.0|\n",
            "|2020-04-22|      Andhra Pradesh|     41512.0|   40699|   813.0|\n",
            "|2020-04-23|      Andhra Pradesh|     48032.0|   47139|   893.0|\n",
            "|2020-04-24|      Andhra Pradesh|     54338.0|   53383|   955.0|\n",
            "|2020-04-25|      Andhra Pradesh|     61266.0|   60250|  1016.0|\n",
            "|2020-04-26|      Andhra Pradesh|     68034.0|   66937|  1097.0|\n",
            "|2020-04-27|      Andhra Pradesh|     74551.0|   73374|  1177.0|\n",
            "|2020-04-28|      Andhra Pradesh|     80334.0|   79075|  1259.0|\n",
            "+----------+--------------------+------------+--------+--------+\n",
            "only showing top 20 rows\n",
            "\n"
          ]
        }
      ]
    },
    {
      "cell_type": "code",
      "source": [
        "df.dtypes"
      ],
      "metadata": {
        "colab": {
          "base_uri": "https://localhost:8080/"
        },
        "id": "0MDBz-aCqq7L",
        "outputId": "1e6d8fb7-e2a9-413e-8b2e-e0e8dc2407a6"
      },
      "execution_count": 153,
      "outputs": [
        {
          "output_type": "execute_result",
          "data": {
            "text/plain": [
              "[('Date', 'string'),\n",
              " ('State', 'string'),\n",
              " ('TotalSamples', 'string'),\n",
              " ('Negative', 'string'),\n",
              " ('Positive', 'string')]"
            ]
          },
          "metadata": {},
          "execution_count": 153
        }
      ]
    },
    {
      "cell_type": "code",
      "source": [
        "df.select(col('TotalSamples').cast('int').alias('TotalSamples'))"
      ],
      "metadata": {
        "colab": {
          "base_uri": "https://localhost:8080/"
        },
        "id": "4-0ca1sCZWmj",
        "outputId": "b4c0f671-81e5-4bc7-bddc-757c5c38aba6"
      },
      "execution_count": 154,
      "outputs": [
        {
          "output_type": "execute_result",
          "data": {
            "text/plain": [
              "DataFrame[TotalSamples: int]"
            ]
          },
          "metadata": {},
          "execution_count": 154
        }
      ]
    },
    {
      "cell_type": "code",
      "source": [
        "df.withColumn('TotalSamples',df.TotalSamples.cast('int'))"
      ],
      "metadata": {
        "colab": {
          "base_uri": "https://localhost:8080/"
        },
        "id": "JzQ3Ghipan-J",
        "outputId": "49350895-edab-43d2-bbe0-5f2ad77f0b92"
      },
      "execution_count": 155,
      "outputs": [
        {
          "output_type": "execute_result",
          "data": {
            "text/plain": [
              "DataFrame[Date: string, State: string, TotalSamples: int, Negative: string, Positive: string]"
            ]
          },
          "metadata": {},
          "execution_count": 155
        }
      ]
    },
    {
      "cell_type": "code",
      "source": [
        "df.dtypes"
      ],
      "metadata": {
        "colab": {
          "base_uri": "https://localhost:8080/"
        },
        "id": "5_pjh5PoaYQU",
        "outputId": "48ca951f-6cd2-4a30-efd4-35b314ef5ac6"
      },
      "execution_count": 156,
      "outputs": [
        {
          "output_type": "execute_result",
          "data": {
            "text/plain": [
              "[('Date', 'string'),\n",
              " ('State', 'string'),\n",
              " ('TotalSamples', 'string'),\n",
              " ('Negative', 'string'),\n",
              " ('Positive', 'string')]"
            ]
          },
          "metadata": {},
          "execution_count": 156
        }
      ]
    },
    {
      "cell_type": "code",
      "source": [
        "data = [(\"James\",\"M\",60000),(\"Michael\",\"M\",70000),\n",
        "        (\"Robert\",None,400000),(\"Maria\",\"F\",500000),\n",
        "        (\"Jen\",\"\",None)]\n",
        "\n",
        "columns = [\"name\",\"gender\",\"salary\"]\n",
        "df3 = spark.createDataFrame(data = data, schema = columns)\n",
        "df3.show()"
      ],
      "metadata": {
        "colab": {
          "base_uri": "https://localhost:8080/"
        },
        "id": "Co69AL8K2KPa",
        "outputId": "14f9aee9-b286-4035-896e-dd31e1039fed"
      },
      "execution_count": 158,
      "outputs": [
        {
          "output_type": "stream",
          "name": "stdout",
          "text": [
            "+-------+------+------+\n",
            "|   name|gender|salary|\n",
            "+-------+------+------+\n",
            "|  James|     M| 60000|\n",
            "|Michael|     M| 70000|\n",
            "| Robert|  null|400000|\n",
            "|  Maria|     F|500000|\n",
            "|    Jen|      |  null|\n",
            "+-------+------+------+\n",
            "\n"
          ]
        }
      ]
    },
    {
      "cell_type": "code",
      "source": [
        "df3.select(col('*'),when(df.gender == 'M','Male')\n",
        ".when(df.gender == 'F','Female')\n",
        ".when(df.gender =='','NA')\n",
        ".when(df.gender.isNull(), \"\").otherwise(df.gender).alias('New Gender')).show()\n"
      ],
      "metadata": {
        "colab": {
          "base_uri": "https://localhost:8080/"
        },
        "id": "Komdps7d23AL",
        "outputId": "f19e102c-57a3-4bb6-fae1-a1deacace3c2"
      },
      "execution_count": null,
      "outputs": [
        {
          "output_type": "stream",
          "name": "stdout",
          "text": [
            "+-------+------+------+----------+\n",
            "|   name|gender|salary|New Gender|\n",
            "+-------+------+------+----------+\n",
            "|  James|     M| 60000|      Male|\n",
            "|Michael|     M| 70000|      Male|\n",
            "| Robert|  null|400000|          |\n",
            "|  Maria|     F|500000|    Female|\n",
            "|    Jen|      |  null|        NA|\n",
            "+-------+------+------+----------+\n",
            "\n"
          ]
        }
      ]
    },
    {
      "cell_type": "code",
      "source": [
        "df3.select(col('*') , expr( \"CASE WHEN gender = 'M' THEN 'MALE' \" +\n",
        "                      \"WHEN gender = 'F' THEN 'FEMALE' WHEN gender IS NULL THEN''\" + \n",
        "                      \"ELSE gender END\").alias('New_Gender')).show()"
      ],
      "metadata": {
        "colab": {
          "base_uri": "https://localhost:8080/"
        },
        "id": "K9fBN9RE4EI3",
        "outputId": "8584839c-704e-47da-e14f-e5fa22493400"
      },
      "execution_count": null,
      "outputs": [
        {
          "output_type": "stream",
          "name": "stdout",
          "text": [
            "+-------+------+------+----------+\n",
            "|   name|gender|salary|New_Gender|\n",
            "+-------+------+------+----------+\n",
            "|  James|     M| 60000|      MALE|\n",
            "|Michael|     M| 70000|      MALE|\n",
            "| Robert|  null|400000|          |\n",
            "|  Maria|     F|500000|    FEMALE|\n",
            "|    Jen|      |  null|          |\n",
            "+-------+------+------+----------+\n",
            "\n"
          ]
        }
      ]
    },
    {
      "cell_type": "code",
      "source": [
        "data = [('Rohit','Baghel'),('Rajesh','Bariya')]"
      ],
      "metadata": {
        "id": "LednCM2xAOP-"
      },
      "execution_count": 161,
      "outputs": []
    },
    {
      "cell_type": "code",
      "source": [
        "df4 = spark.createDataFrame(data).toDF('Name','Surname')"
      ],
      "metadata": {
        "id": "Vbpu2KdjAhiu"
      },
      "execution_count": null,
      "outputs": []
    },
    {
      "cell_type": "code",
      "source": [
        "df4.show()"
      ],
      "metadata": {
        "colab": {
          "base_uri": "https://localhost:8080/"
        },
        "id": "Ezm3KQzYBAcn",
        "outputId": "9d8c4630-b77c-4e71-bc53-5e7332906876"
      },
      "execution_count": 163,
      "outputs": [
        {
          "output_type": "stream",
          "name": "stdout",
          "text": [
            "+------+-------+\n",
            "|  Name|Surname|\n",
            "+------+-------+\n",
            "| Rohit| Baghel|\n",
            "|Rajesh| Bariya|\n",
            "+------+-------+\n",
            "\n"
          ]
        }
      ]
    },
    {
      "cell_type": "code",
      "source": [
        "df4.withColumn('Name',expr(\"Name||' '||Surname\")).show()"
      ],
      "metadata": {
        "colab": {
          "base_uri": "https://localhost:8080/"
        },
        "id": "d5JQmxbRBInV",
        "outputId": "e068e92b-cfb5-4044-d219-2a67a98ce7e3"
      },
      "execution_count": 165,
      "outputs": [
        {
          "output_type": "stream",
          "name": "stdout",
          "text": [
            "+-------------+-------+\n",
            "|         Name|Surname|\n",
            "+-------------+-------+\n",
            "| Rohit Baghel| Baghel|\n",
            "|Rajesh Bariya| Bariya|\n",
            "+-------------+-------+\n",
            "\n"
          ]
        }
      ]
    },
    {
      "cell_type": "code",
      "source": [
        "data=[(\"2019-01-23\",1),(\"2019-06-24\",2),(\"2019-09-20\",3)] \n",
        "df5=spark.createDataFrame(data).toDF(\"date\",\"increment\") "
      ],
      "metadata": {
        "id": "ByAM2z4hCE93"
      },
      "execution_count": 167,
      "outputs": []
    },
    {
      "cell_type": "code",
      "source": [
        "df5.show()"
      ],
      "metadata": {
        "colab": {
          "base_uri": "https://localhost:8080/"
        },
        "id": "xaEfSuMqCGmP",
        "outputId": "b6d3109a-60b7-49b9-991f-faf81933fd80"
      },
      "execution_count": 168,
      "outputs": [
        {
          "output_type": "stream",
          "name": "stdout",
          "text": [
            "+----------+---------+\n",
            "|      date|increment|\n",
            "+----------+---------+\n",
            "|2019-01-23|        1|\n",
            "|2019-06-24|        2|\n",
            "|2019-09-20|        3|\n",
            "+----------+---------+\n",
            "\n"
          ]
        }
      ]
    },
    {
      "cell_type": "code",
      "source": [
        "df5.select(df5.date,df5.increment, expr(\"add_months(date,increment)\").alias('inc_date')).show()"
      ],
      "metadata": {
        "colab": {
          "base_uri": "https://localhost:8080/"
        },
        "id": "DdQ9vXGgC_ut",
        "outputId": "ef29b8c7-c63d-4cd3-b916-16672ce8bed7"
      },
      "execution_count": 170,
      "outputs": [
        {
          "output_type": "stream",
          "name": "stdout",
          "text": [
            "+----------+---------+----------+\n",
            "|      date|increment|  inc_date|\n",
            "+----------+---------+----------+\n",
            "|2019-01-23|        1|2019-02-23|\n",
            "|2019-06-24|        2|2019-08-24|\n",
            "|2019-09-20|        3|2019-12-20|\n",
            "+----------+---------+----------+\n",
            "\n"
          ]
        }
      ]
    },
    {
      "cell_type": "code",
      "source": [
        "df5.show()"
      ],
      "metadata": {
        "id": "3zgEjP9ZDoOg",
        "colab": {
          "base_uri": "https://localhost:8080/"
        },
        "outputId": "cbca8c6e-a164-4cc1-8299-b9c46cebfed4"
      },
      "execution_count": 171,
      "outputs": [
        {
          "output_type": "stream",
          "name": "stdout",
          "text": [
            "+----------+---------+\n",
            "|      date|increment|\n",
            "+----------+---------+\n",
            "|2019-01-23|        1|\n",
            "|2019-06-24|        2|\n",
            "|2019-09-20|        3|\n",
            "+----------+---------+\n",
            "\n"
          ]
        }
      ]
    },
    {
      "cell_type": "code",
      "source": [
        "df6 = spark.read.option('header',True).csv('/content/data.csv')"
      ],
      "metadata": {
        "id": "k8807b8WuR1o"
      },
      "execution_count": 172,
      "outputs": []
    },
    {
      "cell_type": "code",
      "source": [
        "df6.show()"
      ],
      "metadata": {
        "colab": {
          "base_uri": "https://localhost:8080/"
        },
        "id": "LciBZKMmudOc",
        "outputId": "17704548-7d80-41ea-90bc-2420015b7541"
      },
      "execution_count": 173,
      "outputs": [
        {
          "output_type": "stream",
          "name": "stdout",
          "text": [
            "+--------+-----+--------+--------+\n",
            "|Duration|Pulse|Maxpulse|Calories|\n",
            "+--------+-----+--------+--------+\n",
            "|      60|  110|     130|   409.1|\n",
            "|      60|  117|     145|   479.0|\n",
            "|      60|  103|     135|   340.0|\n",
            "|      45|  109|     175|   282.4|\n",
            "|      45|  117|     148|   406.0|\n",
            "|      60|  102|     127|   300.0|\n",
            "|      60|  110|     136|   374.0|\n",
            "|      45|  104|     134|   253.3|\n",
            "|      30|  109|     133|   195.1|\n",
            "|      60|   98|     124|   269.0|\n",
            "|      60|  103|     147|   329.3|\n",
            "|      60|  100|     120|   250.7|\n",
            "|      60|  106|     128|   345.3|\n",
            "|      60|  104|     132|   379.3|\n",
            "|      60|   98|     123|   275.0|\n",
            "|      60|   98|     120|   215.2|\n",
            "|      60|  100|     120|   300.0|\n",
            "|      45|   90|     112|    null|\n",
            "|      60|  103|     123|   323.0|\n",
            "|      45|   97|     125|   243.0|\n",
            "+--------+-----+--------+--------+\n",
            "only showing top 20 rows\n",
            "\n"
          ]
        }
      ]
    },
    {
      "cell_type": "code",
      "source": [],
      "metadata": {
        "id": "Ep8rfIKtuisC"
      },
      "execution_count": null,
      "outputs": []
    },
    {
      "cell_type": "markdown",
      "source": [],
      "metadata": {
        "id": "tZkMQWPWuRsx"
      }
    }
  ]
}